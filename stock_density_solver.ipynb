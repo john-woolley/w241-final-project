{
 "cells": [
  {
   "cell_type": "code",
   "execution_count": 2,
   "metadata": {
    "id": "FUZb3DckDeYU"
   },
   "outputs": [],
   "source": [
    "import numpy as np\n",
    "import pandas as pd\n",
    "from scipy.stats import skewnorm, skew\n",
    "import matplotlib.pyplot as plt\n",
    "from sympy import Symbol\n",
    "from sympy.solvers import solve"
   ]
  },
  {
   "cell_type": "code",
   "execution_count": 3,
   "metadata": {},
   "outputs": [],
   "source": [
    "np.random.seed(42)"
   ]
  },
  {
   "cell_type": "code",
   "execution_count": 4,
   "metadata": {
    "id": "_C2h6w0LDeYl"
   },
   "outputs": [],
   "source": [
    "def delta_fn(alpha):\n",
    "    delta = alpha/(1+alpha**2)**(0.5)\n",
    "    return(delta)\n",
    "\n",
    "def skewness_fn(alpha):\n",
    "    delta = delta_fn(alpha)\n",
    "    first_term = (4.-np.pi)/2.\n",
    "    num = (delta * (2./np.pi)**0.5)**3.\n",
    "    denom = (1-(2.*delta**2/np.pi))**(1.5)\n",
    "    second_term = num/denom\n",
    "    return first_term * second_term\n",
    "\n",
    "def variance_fn(alpha, omega=1):\n",
    "    delta = delta_fn(alpha)\n",
    "    return omega**2 * (1-(2*delta**2)/np.pi)\n",
    "    \n",
    "def mean_fn(alpha, omega=1, xi=0):\n",
    "    delta = delta_fn(alpha)\n",
    "    return xi + omega * delta * np.sqrt(2/np.pi)\n",
    "\n",
    "def alpha_solver(skewness=0):\n",
    "  if skewness==0:\n",
    "    return 0\n",
    "  elif abs(skewness) > 1:\n",
    "    raise ValueError('No Real Solutions when abs(skewness) > 1!')\n",
    "  else: \n",
    "    alpha = Symbol('alpha')\n",
    "    return float(solve(skewness_fn(alpha)-skewness, alpha)[0])\n",
    "\n",
    "def omega_solver(alpha, variance=1):\n",
    "    delta = delta_fn(alpha)\n",
    "    return float((variance / (1.-(2.*delta**2)/np.pi))**(1/2.))\n",
    "\n",
    "def xi_solver(alpha, omega, mean=0):\n",
    "    delta = delta_fn(alpha)\n",
    "    return float(mean - omega*delta*np.sqrt(2/np.pi))\n",
    "\n",
    "class SkewNorm:\n",
    "    def __init__(self, **kwargs):\n",
    "        self.__dict__.update(kwargs)\n",
    "        self.get_stats()\n",
    "        self.gen_sim()\n",
    "    def get_stats(self):\n",
    "        self.stats = skewnorm.stats(self.alpha, loc=self.xi, scale=self.omega, moments='mvsk')\n",
    "    def gen_sim(self, size=None):\n",
    "        if size:\n",
    "            self.sim_size = size\n",
    "        else:\n",
    "            size = self.sim_size\n",
    "        self.sim = sorted(skewnorm.rvs(self.alpha, loc=self.xi, scale=self.omega, size=size))\n",
    "        \n",
    "def skewnorm_solver(skewness=0, variance=1, mean=0):\n",
    "    alpha = alpha_solver(skewness)\n",
    "    alpha_check = skewness_fn(alpha)\n",
    "    assert abs(alpha_check - skewness) < 1e-6\n",
    "\n",
    "    omega = omega_solver(alpha,variance)\n",
    "    omega_check = variance_fn(alpha, omega)\n",
    "    assert abs(omega_check - variance) < 1e-6\n",
    "\n",
    "    xi = xi_solver(alpha, omega, mean)\n",
    "    xi_check = mean_fn(alpha, omega, xi)\n",
    "    assert abs(xi_check - mean) < 1e-6\n",
    "    res = SkewNorm(alpha=alpha, omega=omega, xi=xi, sim_size=10000, hist_bins=100)\n",
    "    assert abs(res.stats[0] - mean) < 1e-6\n",
    "    assert abs(res.stats[1] - variance) < 1e-6\n",
    "    assert abs(res.stats[2] - skewness) < 1e-6\n",
    "    return res"
   ]
  },
  {
   "cell_type": "markdown",
   "metadata": {
    "id": "9_XIsE2nGkEN"
   },
   "source": [
    "A distribution from the **skewnormal** family is uniquely specified by a combination of $\\alpha$, the **shape** parameter, $\\omega$, the **scale** parameter and $\\xi$, the **location** parameter."
   ]
  },
  {
   "cell_type": "markdown",
   "metadata": {
    "id": "CndVSviqFrbG"
   },
   "source": [
    "The following equations are written in terms of $\\delta$, which is a univariate function of $\\alpha$, the shape parameter of the skewnormal distribution."
   ]
  },
  {
   "cell_type": "markdown",
   "metadata": {
    "id": "zwHEXwbpF8AV"
   },
   "source": [
    "$ \\delta = \\frac{\\alpha}{\\sqrt{1+\\alpha^2}} $"
   ]
  },
  {
   "cell_type": "markdown",
   "metadata": {
    "id": "VgQw-HzSFgi-"
   },
   "source": [
    "First we must solve for the shape parameter by solving for delta in the following equation that defines the skewness $(\\gamma_1)$ in terms of $\\delta$."
   ]
  },
  {
   "cell_type": "markdown",
   "metadata": {
    "id": "eAiCMCSRE_lp"
   },
   "source": [
    "$ \\gamma_1 (X) = \\frac{4-\\pi}{2} \\frac{(\\delta\\sqrt{(2/\\pi})^3}{(1-2\\delta^2/\\pi)^\\frac{3}{2}} $"
   ]
  },
  {
   "cell_type": "markdown",
   "metadata": {
    "id": "FjncgKQMGRul"
   },
   "source": [
    "Then, given the fixed $\\delta$ we have solved for in the previous section, we can solve for $\\omega$ as a univariate function of $Var(X)$."
   ]
  },
  {
   "cell_type": "markdown",
   "metadata": {
    "id": "I_VdxCzXDeY3"
   },
   "source": [
    "$ Var(X) = \\omega^2 (1-\\frac{2\\delta^2}{\\pi}) $"
   ]
  },
  {
   "cell_type": "markdown",
   "metadata": {
    "id": "zQrONBJVFeFU"
   },
   "source": [
    "Finally, given $\\alpha$ (and thereby $\\delta$) and $\\omega$ we can solve for $\\xi$ to fit our desired mean."
   ]
  },
  {
   "cell_type": "markdown",
   "metadata": {
    "id": "l4Eo9apoDeY0"
   },
   "source": [
    "$ E(X) = \\xi + \\omega\\delta \\sqrt{\\frac{2}{\\pi}} $"
   ]
  },
  {
   "cell_type": "code",
   "execution_count": 122,
   "metadata": {
    "colab": {
     "base_uri": "https://localhost:8080/",
     "height": 453
    },
    "id": "Os9Hawq3DeY5",
    "outputId": "ebc46af6-58eb-4814-dee3-f3bc651d35db"
   },
   "outputs": [],
   "source": [
    "variations = {\n",
    "    'intro': {'skewness':0, 'variance': np.log(1.10)**2, 'mean': np.log(50)},\n",
    "    'control': {'skewness':0, 'variance': np.log(1.10)**2, 'mean': np.log(100)},\n",
    "    'high_variance': {'skewness':0, 'variance': np.log(1.15)**2, 'mean': np.log(100)},\n",
    "    'right_skew': {'skewness':0.5, 'variance': np.log(1.10)**2, 'mean': np.log(100)},\n",
    "    'left_skew': {'skewness':-0.5, 'variance': np.log(1.10)**2, 'mean': np.log(100)},\n",
    "    'right_skew_hiv': {'skewness':0.5, 'variance': np.log(1.15)**2, 'mean': np.log(100)},\n",
    "    'left_skew_hiv': {'skewness':-0.5, 'variance': np.log(1.15)**2, 'mean': np.log(100)},\n",
    "}\n",
    "\n",
    "distributions = {k: skewnorm_solver(**v).sim for k,v in variations.items()}\n",
    "log_df = pd.DataFrame(distributions)\n",
    "df = np.exp(log_df)"
   ]
  },
  {
   "cell_type": "code",
   "execution_count": 123,
   "metadata": {
    "id": "B_5x4ucmDeZI"
   },
   "outputs": [
    {
     "data": {
      "text/plain": [
       "<matplotlib.axes._subplots.AxesSubplot at 0x7f0c9850f0a0>"
      ]
     },
     "execution_count": 123,
     "metadata": {},
     "output_type": "execute_result"
    },
    {
     "data": {
      "image/png": "[encoded data removed]",
      "text/plain": [
       "<Figure size 1440x720 with 1 Axes>"
      ]
     },
     "metadata": {
      "needs_background": "light"
     },
     "output_type": "display_data"
    }
   ],
   "source": [
    "df.boxplot(figsize=(20,10))"
   ]
  },
  {
   "cell_type": "code",
   "execution_count": 124,
   "metadata": {
    "id": "j2pJZQnDDeZS"
   },
   "outputs": [
    {
     "name": "stdout",
     "output_type": "stream",
     "text": [
      "intro            $42.66\n",
      "control          $85.59\n",
      "high_variance    $79.71\n",
      "right_skew       $86.91\n",
      "left_skew        $84.30\n",
      "right_skew_hiv   $81.36\n",
      "left_skew_hiv    $77.78\n",
      "Name: 0.05, dtype: float64\n"
     ]
    },
    {
     "data": {
      "text/plain": [
       "intro            $41.10\n",
       "control          $82.28\n",
       "high_variance    $75.08\n",
       "right_skew       $84.41\n",
       "left_skew        $79.95\n",
       "right_skew_hiv   $78.26\n",
       "left_skew_hiv    $72.04\n",
       "dtype: float64"
      ]
     },
     "execution_count": 124,
     "metadata": {},
     "output_type": "execute_result"
    }
   ],
   "source": [
    "print(df.quantile(0.05, interpolation='lower'))\n",
    "\n",
    "df.loc[:499].mean()"
   ]
  },
  {
   "cell_type": "code",
   "execution_count": 125,
   "metadata": {},
   "outputs": [
    {
     "name": "stdout",
     "output_type": "stream",
     "text": [
      "intro             $58.44\n",
      "control          $116.66\n",
      "high_variance    $125.73\n",
      "right_skew       $118.02\n",
      "left_skew        $115.14\n",
      "right_skew_hiv   $128.10\n",
      "left_skew_hiv    $122.66\n",
      "Name: 0.95, dtype: float64\n"
     ]
    },
    {
     "data": {
      "text/plain": [
       "intro             $61.00\n",
       "control          $121.33\n",
       "high_variance    $133.49\n",
       "right_skew       $124.60\n",
       "left_skew        $118.44\n",
       "right_skew_hiv   $139.06\n",
       "left_skew_hiv    $128.22\n",
       "dtype: float64"
      ]
     },
     "execution_count": 125,
     "metadata": {},
     "output_type": "execute_result"
    }
   ],
   "source": [
    "print(df.quantile(0.95, interpolation='lower'))\n",
    "df.loc[9499:].mean()"
   ]
  },
  {
   "cell_type": "code",
   "execution_count": 127,
   "metadata": {},
   "outputs": [
    {
     "data": {
      "image/png": "[encoded data removed]",
      "text/plain": [
       "<Figure size 648x432 with 1 Axes>"
      ]
     },
     "metadata": {
      "needs_background": "light"
     },
     "output_type": "display_data"
    },
    {
     "data": {
      "image/png": "[encoded data removed]",
      "text/plain": [
       "<Figure size 648x432 with 1 Axes>"
      ]
     },
     "metadata": {
      "needs_background": "light"
     },
     "output_type": "display_data"
    },
    {
     "data": {
      "image/png": "[encoded data removed]",
      "text/plain": [
       "<Figure size 648x432 with 1 Axes>"
      ]
     },
     "metadata": {
      "needs_background": "light"
     },
     "output_type": "display_data"
    },
    {
     "data": {
      "image/png": "[encoded data removed]",
      "text/plain": [
       "<Figure size 648x432 with 1 Axes>"
      ]
     },
     "metadata": {
      "needs_background": "light"
     },
     "output_type": "display_data"
    },
    {
     "data": {
      "image/png": "[encoded data removed]",
      "text/plain": [
       "<Figure size 648x432 with 1 Axes>"
      ]
     },
     "metadata": {
      "needs_background": "light"
     },
     "output_type": "display_data"
    },
    {
     "data": {
      "image/png": "[encoded data removed]",
      "text/plain": [
       "<Figure size 648x432 with 1 Axes>"
      ]
     },
     "metadata": {
      "needs_background": "light"
     },
     "output_type": "display_data"
    },
    {
     "data": {
      "image/png": "[encoded data removed]",
      "text/plain": [
       "<Figure size 648x432 with 1 Axes>"
      ]
     },
     "metadata": {
      "needs_background": "light"
     },
     "output_type": "display_data"
    }
   ],
   "source": [
    "for i, col in enumerate(df.columns):\n",
    "    fig, axs = plt.subplots(1, figsize=(9, 6))\n",
    "    df[col].hist(ax=axs, bins=100, density=True)\n",
    "    fig.savefig('survey_content/{}/histogram.png'.format(col))"
   ]
  },
  {
   "cell_type": "code",
   "execution_count": 130,
   "metadata": {},
   "outputs": [],
   "source": [
    "from scipy.stats import skew, mode\n",
    "\n",
    "def skew_str(s):\n",
    "    return str(round(skew(s),2))\n",
    "\n",
    "quantiles = {}\n",
    "conditional_means = {}\n",
    "stats = {}\n",
    "for col in df.columns:\n",
    "    tmp = df[col]\n",
    "    quantiles[col] = tmp.quantile([0.01,0.05,0.1,0.25,0.5,0.75,0.9,0.95,0.99])\n",
    "    conditional_means[col] = pd.Series(dtype=object)\n",
    "    for quantile in quantiles[col].index.tolist():\n",
    "        if quantile != 0.5:\n",
    "            val = quantiles[col][quantile]\n",
    "            conditional_means[col][quantile] = (tmp.loc[tmp < val].mean() * (quantile < 0.5) +\n",
    "                                                tmp.loc[tmp > val].mean() * (quantile > 0.5))\n",
    "    stats[col] = pd.Series(dtype=object)\n",
    "    for stat in [np.mean, np.median, np.std, skew_str]:\n",
    "        stats[col][stat.__name__] = stat(tmp)\n",
    "    stats[col].rename({'std':'std deviation', 'skew_str':'skewness'}, inplace=True)\n",
    "    quantiles[col].rename({0.01: '1%', 0.05: '5%', 0.1:'10%', 0.25:'25%', 0.5:'50%', 0.75:'75%', 0.9:'90%',\n",
    "                  0.95: '95%', 0.99:'99%'}, inplace=True)\n",
    "    conditional_means[col].rename({0.01: '1%', 0.05: '5%', 0.1:'10%', 0.25:'25%', 0.5:'50%', 0.75:'75%', 0.9:'90%',\n",
    "              0.95: '95%', 0.99:'99%'}, inplace=True)\n",
    "    quantiles[col].to_frame(name='Prices').to_html('survey_content/{}/quantiles.html'.format(col))\n",
    "    conditional_means[col].to_frame(name='Average of Price Tails').to_html('survey_content/{}/cond_means.html'.format(col))\n",
    "    stats[col].to_frame(name='Statistics').to_html('survey_content/{}/stats.html'.format(col))"
   ]
  },
  {
   "cell_type": "code",
   "execution_count": 131,
   "metadata": {},
   "outputs": [],
   "source": [
    "import weasyprint as wsp\n",
    "import PIL as pil\n",
    "\n",
    "\n",
    "def trim(source_filepath, target_filepath=None, background=None):\n",
    "    if not target_filepath:\n",
    "        target_filepath = source_filepath\n",
    "    img = pil.Image.open(source_filepath)\n",
    "    if background is None:\n",
    "        background = img.getpixel((0, 0))\n",
    "    border = pil.Image.new(img.mode, img.size, background)\n",
    "    diff = pil.ImageChops.difference(img, border)\n",
    "    bbox = diff.getbbox()\n",
    "    img = img.crop(bbox) if bbox else img\n",
    "    img.save(target_filepath)\n",
    "\n",
    "\n",
    "for col in df.columns:\n",
    "    quantile_html = open('survey_content/{}/quantiles.html'.format(col)).read()\n",
    "    means_html = open('survey_content/{}/cond_means.html'.format(col)).read()\n",
    "    stats_html = open('survey_content/{}/stats.html'.format(col)).read()\n",
    "    quantile_png = 'survey_content/{}/quantiles.png'.format(col)\n",
    "    means_png = 'survey_content/{}/cond_means.png'.format(col)\n",
    "    stats_png = 'survey_content/{}/stats.png'.format(col)\n",
    "    css = wsp.CSS(string='''\n",
    "    @page { size: 200px100px; padding: 0px; margin: 0px; }\n",
    "    table, td, tr, th { border: 1px solid black; }\n",
    "    td, th { padding: 4px 8px; }\n",
    "    ''')\n",
    "    quantile_wsp = wsp.HTML(string=quantile_html)\n",
    "    quantile_wsp.write_png(quantile_png, stylesheets=[css])\n",
    "    means_wsp = wsp.HTML(string=means_html)\n",
    "    means_wsp.write_png(means_png, stylesheets=[css])\n",
    "    stats_wsp = wsp.HTML(string=stats_html)\n",
    "    stats_wsp.write_png(stats_png, stylesheets=[css])\n",
    "    trim(means_png)\n",
    "    trim(quantile_png)\n",
    "    trim(stats_png)"
   ]
  },
  {
   "cell_type": "code",
   "execution_count": null,
   "metadata": {},
   "outputs": [],
   "source": []
  }
 ],
 "metadata": {
  "colab": {
   "name": "stock_density_solver.ipynb",
   "provenance": []
  },
  "kernelspec": {
   "display_name": "Python 3",
   "language": "python",
   "name": "python3"
  },
  "language_info": {
   "codemirror_mode": {
    "name": "ipython",
    "version": 3
   },
   "file_extension": ".py",
   "mimetype": "text/x-python",
   "name": "python",
   "nbconvert_exporter": "python",
   "pygments_lexer": "ipython3",
   "version": "3.8.3"
  }
 },
 "nbformat": 4,
 "nbformat_minor": 4
}
