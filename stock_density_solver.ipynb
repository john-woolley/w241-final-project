{
 "cells": [
  {
   "cell_type": "code",
   "execution_count": 16,
   "metadata": {
    "id": "FUZb3DckDeYU"
   },
   "outputs": [],
   "source": [
    "import numpy as np\n",
    "import pandas as pd\n",
    "from scipy.stats import skewnorm, skew\n",
    "import matplotlib.pyplot as plt\n",
    "from sympy import Symbol\n",
    "from sympy.solvers import solve"
   ]
  },
  {
   "cell_type": "code",
   "execution_count": 17,
   "metadata": {},
   "outputs": [],
   "source": [
    "np.random.seed(42)"
   ]
  },
  {
   "cell_type": "code",
   "execution_count": 130,
   "metadata": {
    "id": "_C2h6w0LDeYl"
   },
   "outputs": [],
   "source": [
    "def delta_fn(alpha):\n",
    "    delta = alpha/(1+alpha**2)**(0.5)\n",
    "    return(delta)\n",
    "\n",
    "def skewness_fn(alpha):\n",
    "    delta = delta_fn(alpha)\n",
    "    first_term = (4.-np.pi)/2.\n",
    "    num = (delta * (2./np.pi)**0.5)**3.\n",
    "    denom = (1-(2.*delta**2/np.pi))**(1.5)\n",
    "    second_term = num/denom\n",
    "    return first_term * second_term\n",
    "\n",
    "def variance_fn(alpha, omega=1):\n",
    "    delta = delta_fn(alpha)\n",
    "    return omega**2 * (1-(2*delta**2)/np.pi)\n",
    "    \n",
    "def mean_fn(alpha, omega=1, xi=0):\n",
    "    delta = delta_fn(alpha)\n",
    "    return xi + omega * delta * np.sqrt(2/np.pi)\n",
    "\n",
    "def alpha_solver(skewness=0):\n",
    "  if skewness==0:\n",
    "    return 0\n",
    "  elif abs(skewness) > 1:\n",
    "    raise ValueError('No Real Solutions when abs(skewness) > 1!')\n",
    "  else: \n",
    "    alpha = Symbol('alpha')\n",
    "    return float(solve(skewness_fn(alpha)-skewness, alpha)[0])\n",
    "\n",
    "def omega_solver(alpha, variance=1):\n",
    "    delta = delta_fn(alpha)\n",
    "    return float((variance / (1.-(2.*delta**2)/np.pi))**(1/2.))\n",
    "\n",
    "def xi_solver(alpha, omega, mean=0):\n",
    "    delta = delta_fn(alpha)\n",
    "    return float(mean - omega*delta*np.sqrt(2/np.pi))\n",
    "\n",
    "class SkewNorm:\n",
    "    def __init__(self, **kwargs):\n",
    "        self.__dict__.update(kwargs)\n",
    "        self.get_stats()\n",
    "        self.gen_sim()\n",
    "    def get_stats(self):\n",
    "        self.stats = skewnorm.stats(self.alpha, loc=self.xi, scale=self.omega, moments='mvsk')\n",
    "    def gen_sim(self, size=None):\n",
    "        if size:\n",
    "            self.sim_size = size\n",
    "        else:\n",
    "            size = self.sim_size\n",
    "        self.sim = sorted(skewnorm.rvs(self.alpha, loc=self.xi, scale=self.omega, size=size))\n",
    "        \n",
    "def skewnorm_solver(skewness=0, variance=1, mean=0):\n",
    "    alpha = alpha_solver(skewness)\n",
    "    alpha_check = skewness_fn(alpha)\n",
    "    assert abs(alpha_check - skewness) < 1e-6\n",
    "\n",
    "    omega = omega_solver(alpha,variance)\n",
    "    omega_check = variance_fn(alpha, omega)\n",
    "    assert abs(omega_check - variance) < 1e-6\n",
    "\n",
    "    xi = xi_solver(alpha, omega, mean)\n",
    "    xi_check = mean_fn(alpha, omega, xi)\n",
    "    assert abs(xi_check - mean) < 1e-6\n",
    "    res = SkewNorm(alpha=alpha, omega=omega, xi=xi, sim_size=10000, hist_bins=100)\n",
    "    assert abs(res.stats[0] - mean) < 1e-6\n",
    "    assert abs(res.stats[1] - variance) < 1e-6\n",
    "    assert abs(res.stats[2] - skewness) < 1e-6\n",
    "    return res"
   ]
  },
  {
   "cell_type": "markdown",
   "metadata": {
    "id": "9_XIsE2nGkEN"
   },
   "source": [
    "A distribution from the **skewnormal** family is uniquely specified by a combination of $\\alpha$, the **shape** parameter, $\\omega$, the **scale** parameter and $\\xi$, the **location** parameter."
   ]
  },
  {
   "cell_type": "markdown",
   "metadata": {
    "id": "CndVSviqFrbG"
   },
   "source": [
    "The following equations are written in terms of $\\delta$, which is a univariate function of $\\alpha$, the shape parameter of the skewnormal distribution."
   ]
  },
  {
   "cell_type": "markdown",
   "metadata": {
    "id": "zwHEXwbpF8AV"
   },
   "source": [
    "$ \\delta = \\frac{\\alpha}{\\sqrt{1+\\alpha^2}} $"
   ]
  },
  {
   "cell_type": "markdown",
   "metadata": {
    "id": "VgQw-HzSFgi-"
   },
   "source": [
    "First we must solve for the shape parameter by solving for delta in the following equation that defines the skewness $(\\gamma_1)$ in terms of $\\delta$."
   ]
  },
  {
   "cell_type": "markdown",
   "metadata": {
    "id": "eAiCMCSRE_lp"
   },
   "source": [
    "$ \\gamma_1 (X) = \\frac{4-\\pi}{2} \\frac{(\\delta\\sqrt{(2/\\pi})^3}{(1-2\\delta^2/\\pi)^\\frac{3}{2}} $"
   ]
  },
  {
   "cell_type": "markdown",
   "metadata": {
    "id": "FjncgKQMGRul"
   },
   "source": [
    "Then, given the fixed $\\delta$ we have solved for in the previous section, we can solve for $\\omega$ as a univariate function of $Var(X)$."
   ]
  },
  {
   "cell_type": "markdown",
   "metadata": {
    "id": "I_VdxCzXDeY3"
   },
   "source": [
    "$ Var(X) = \\omega^2 (1-\\frac{2\\delta^2}{\\pi}) $"
   ]
  },
  {
   "cell_type": "markdown",
   "metadata": {
    "id": "zQrONBJVFeFU"
   },
   "source": [
    "Finally, given $\\alpha$ (and thereby $\\delta$) and $\\omega$ we can solve for $\\xi$ to fit our desired mean."
   ]
  },
  {
   "cell_type": "markdown",
   "metadata": {
    "id": "l4Eo9apoDeY0"
   },
   "source": [
    "$ E(X) = \\xi + \\omega\\delta \\sqrt{\\frac{2}{\\pi}} $"
   ]
  },
  {
   "cell_type": "code",
   "execution_count": 131,
   "metadata": {
    "colab": {
     "base_uri": "https://localhost:8080/",
     "height": 453
    },
    "id": "Os9Hawq3DeY5",
    "outputId": "ebc46af6-58eb-4814-dee3-f3bc651d35db"
   },
   "outputs": [],
   "source": [
    "variations = {\n",
    "    'basecase': {'skewness':0, 'variance': np.log(1.10)**2, 'mean': np.log(100)},\n",
    "    'high_variance': {'skewness':0, 'variance': np.log(1.15)**2, 'mean': np.log(100)},\n",
    "    'low_variance': {'skewness':0, 'variance': np.log(1.05)**2, 'mean': np.log(100)},\n",
    "    'right_skew': {'skewness':0.5, 'variance': np.log(1.10)**2, 'mean': np.log(100)},\n",
    "    'left_skew': {'skewness':-0.5, 'variance': np.log(1.10)**2, 'mean': np.log(100)},\n",
    "    'right_skew_hiv': {'skewness':0.5, 'variance': np.log(1.15)**2, 'mean': np.log(100)},\n",
    "    'right_skew_lov': {'skewness':0.5, 'variance': np.log(1.05)**2, 'mean': np.log(100)},\n",
    "    'left_skew_hiv': {'skewness':-0.5, 'variance': np.log(1.15)**2, 'mean': np.log(100)},\n",
    "    'left_skew_lov': {'skewness':-0.5, 'variance': np.log(1.05)**2, 'mean': np.log(100)}\n",
    "}\n",
    "\n",
    "distributions = {k: skewnorm_solver(**v).sim for k,v in variations.items()}\n",
    "log_df = pd.DataFrame(distributions)\n",
    "df = np.exp(log_df)"
   ]
  },
  {
   "cell_type": "code",
   "execution_count": 132,
   "metadata": {
    "id": "B_5x4ucmDeZI"
   },
   "outputs": [
    {
     "data": {
      "text/plain": [
       "<matplotlib.axes._subplots.AxesSubplot at 0x7f9959e77750>"
      ]
     },
     "execution_count": 132,
     "metadata": {},
     "output_type": "execute_result"
    },
    {
     "data": {
      "image/png": "[encoded data removed]",
      "text/plain": [
       "<Figure size 1440x720 with 1 Axes>"
      ]
     },
     "metadata": {
      "needs_background": "light"
     },
     "output_type": "display_data"
    }
   ],
   "source": [
    "df.boxplot(figsize=(20,10))"
   ]
  },
  {
   "cell_type": "code",
   "execution_count": 133,
   "metadata": {
    "id": "j2pJZQnDDeZS"
   },
   "outputs": [
    {
     "name": "stdout",
     "output_type": "stream",
     "text": [
      "basecase          85.593270\n",
      "high_variance     79.406832\n",
      "low_variance      92.145142\n",
      "right_skew        86.795617\n",
      "left_skew         84.330351\n",
      "right_skew_hiv    81.102960\n",
      "right_skew_lov    92.951335\n",
      "left_skew_hiv     77.534339\n",
      "left_skew_lov     91.619526\n",
      "Name: 0.05, dtype: float64\n"
     ]
    },
    {
     "data": {
      "text/plain": [
       "basecase          82.481579\n",
       "high_variance     74.744343\n",
       "low_variance      90.303623\n",
       "right_skew        84.336086\n",
       "left_skew         80.170523\n",
       "right_skew_hiv    77.993028\n",
       "right_skew_lov    91.629110\n",
       "left_skew_hiv     71.667647\n",
       "left_skew_lov     89.087705\n",
       "dtype: float64"
      ]
     },
     "execution_count": 133,
     "metadata": {},
     "output_type": "execute_result"
    }
   ],
   "source": [
    "print(df.quantile(0.05, interpolation='lower'))\n",
    "\n",
    "df.loc[:499].mean()"
   ]
  },
  {
   "cell_type": "code",
   "execution_count": 134,
   "metadata": {},
   "outputs": [
    {
     "name": "stdout",
     "output_type": "stream",
     "text": [
      "basecase          117.339050\n",
      "high_variance     125.595943\n",
      "low_variance      108.281579\n",
      "right_skew        118.849622\n",
      "left_skew         115.191024\n",
      "right_skew_hiv    128.521751\n",
      "right_skew_lov    109.166277\n",
      "left_skew_hiv     123.139818\n",
      "left_skew_lov     107.493851\n",
      "Name: 0.95, dtype: float64\n"
     ]
    },
    {
     "data": {
      "text/plain": [
       "basecase          121.985764\n",
       "high_variance     133.421181\n",
       "low_variance      110.510872\n",
       "right_skew        125.243174\n",
       "left_skew         118.384073\n",
       "right_skew_hiv    139.223283\n",
       "right_skew_lov    111.923604\n",
       "left_skew_hiv     128.590242\n",
       "left_skew_lov     109.030335\n",
       "dtype: float64"
      ]
     },
     "execution_count": 134,
     "metadata": {},
     "output_type": "execute_result"
    }
   ],
   "source": [
    "print(df.quantile(0.95, interpolation='lower'))\n",
    "df.loc[9499:].mean()"
   ]
  },
  {
   "cell_type": "code",
   "execution_count": 135,
   "metadata": {},
   "outputs": [
    {
     "data": {
      "text/plain": [
       "<matplotlib.axes._subplots.AxesSubplot at 0x7f9959a17c90>"
      ]
     },
     "execution_count": 135,
     "metadata": {},
     "output_type": "execute_result"
    },
    {
     "data": {
      "image/png": "[encoded data removed]",
      "text/plain": [
       "<Figure size 432x288 with 1 Axes>"
      ]
     },
     "metadata": {
      "needs_background": "light"
     },
     "output_type": "display_data"
    }
   ],
   "source": [
    "df['basecase'].hist(bins=100)"
   ]
  },
  {
   "cell_type": "code",
   "execution_count": 136,
   "metadata": {},
   "outputs": [
    {
     "data": {
      "text/plain": [
       "<matplotlib.axes._subplots.AxesSubplot at 0x7f995a544b50>"
      ]
     },
     "execution_count": 136,
     "metadata": {},
     "output_type": "execute_result"
    },
    {
     "data": {
      "image/png": "[encoded data removed]",
      "text/plain": [
       "<Figure size 432x288 with 1 Axes>"
      ]
     },
     "metadata": {
      "needs_background": "light"
     },
     "output_type": "display_data"
    }
   ],
   "source": [
    "df['right_skew_hiv'].hist(bins=100)"
   ]
  },
  {
   "cell_type": "code",
   "execution_count": 137,
   "metadata": {},
   "outputs": [
    {
     "data": {
      "text/plain": [
       "<matplotlib.axes._subplots.AxesSubplot at 0x7f995a3b7d90>"
      ]
     },
     "execution_count": 137,
     "metadata": {},
     "output_type": "execute_result"
    },
    {
     "data": {
      "image/png": "[encoded data removed]",
      "text/plain": [
       "<Figure size 432x288 with 1 Axes>"
      ]
     },
     "metadata": {
      "needs_background": "light"
     },
     "output_type": "display_data"
    }
   ],
   "source": [
    "df['left_skew_hiv'].hist(bins=100)"
   ]
  },
  {
   "cell_type": "code",
   "execution_count": null,
   "metadata": {},
   "outputs": [],
   "source": []
  },
  {
   "cell_type": "code",
   "execution_count": null,
   "metadata": {},
   "outputs": [],
   "source": []
  },
  {
   "cell_type": "code",
   "execution_count": null,
   "metadata": {},
   "outputs": [],
   "source": []
  },
  {
   "cell_type": "code",
   "execution_count": null,
   "metadata": {},
   "outputs": [],
   "source": []
  },
  {
   "cell_type": "code",
   "execution_count": null,
   "metadata": {},
   "outputs": [],
   "source": []
  }
 ],
 "metadata": {
  "colab": {
   "name": "stock_density_solver.ipynb",
   "provenance": []
  },
  "kernelspec": {
   "display_name": "Python 3",
   "language": "python",
   "name": "python3"
  },
  "language_info": {
   "codemirror_mode": {
    "name": "ipython",
    "version": 3
   },
   "file_extension": ".py",
   "mimetype": "text/x-python",
   "name": "python",
   "nbconvert_exporter": "python",
   "pygments_lexer": "ipython3",
   "version": "3.7.6"
  }
 },
 "nbformat": 4,
 "nbformat_minor": 4
}
